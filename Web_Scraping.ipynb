{
  "nbformat": 4,
  "nbformat_minor": 0,
  "metadata": {
    "colab": {
      "name": "Web Scraping.ipynb",
      "provenance": [],
      "collapsed_sections": [],
      "authorship_tag": "ABX9TyP80KR2AJh0A4Cy1D37TF7u",
      "include_colab_link": true
    },
    "kernelspec": {
      "name": "python3",
      "display_name": "Python 3"
    },
    "language_info": {
      "name": "python"
    }
  },
  "cells": [
    {
      "cell_type": "markdown",
      "metadata": {
        "id": "view-in-github",
        "colab_type": "text"
      },
      "source": [
        "<a href=\"https://colab.research.google.com/github/tuanymariiah/webscraping/blob/main/Web_Scraping.ipynb\" target=\"_parent\"><img src=\"https://colab.research.google.com/assets/colab-badge.svg\" alt=\"Open In Colab\"/></a>"
      ]
    },
    {
      "cell_type": "code",
      "metadata": {
        "id": "9_RPCSDNbSak"
      },
      "source": [
        "import requests\n",
        "import pandas as pd\n",
        "from datetime import datetime\n",
        "from bs4 import BeautifulSoup\n",
        "import numpy as np"
      ],
      "execution_count": 8,
      "outputs": []
    },
    {
      "cell_type": "code",
      "metadata": {
        "id": "JlTS4L8pcD33"
      },
      "source": [
        "url = 'https://www2.hm.com/en_us/men/products/jeans.html'\n",
        "headers = {'User-Agent': 'Mozilla/5.0 (Macintosh; Intel Mac OS X 10_11_5) ,AppleWebKit/537.36 (KHTML, like Gecko) Chrome/50.0.2661.102 Safari/537.36'}\n",
        "page = requests.get( url, headers=headers )"
      ],
      "execution_count": 9,
      "outputs": []
    },
    {
      "cell_type": "code",
      "metadata": {
        "id": "KtzuJELAcJn1"
      },
      "source": [
        "soup = BeautifulSoup( page.text, 'html.parser' )\n",
        "products = soup.find( 'ul', class_='products-listing small' )"
      ],
      "execution_count": 10,
      "outputs": []
    },
    {
      "cell_type": "code",
      "metadata": {
        "colab": {
          "base_uri": "https://localhost:8080/"
        },
        "id": "-3tzkLqQugG8",
        "outputId": "4492cac2-dee8-428f-9320-8cb80858b2e9"
      },
      "source": [
        "total_item = soup.find_all( 'h2', class_='load-more-heading' )[0].get('data-total')\n",
        "print('total_item', total_item)\n",
        "page_number =  int( total_item ) / 36\n",
        "print('page_number', page_number)\n",
        "url02 = url + '?page-size=' + str( int( page_number*36 ) )\n",
        "url02\n",
        "page2 = requests.get( url02, headers=headers )\n",
        "soup = BeautifulSoup( page2.text, 'html.parser' )\n",
        "products = soup.find( 'ul', class_='products-listing small' )"
      ],
      "execution_count": 11,
      "outputs": [
        {
          "output_type": "stream",
          "name": "stdout",
          "text": [
            "total_item 87\n",
            "page_number 2.4166666666666665\n"
          ]
        }
      ]
    },
    {
      "cell_type": "code",
      "metadata": {
        "id": "e6t18sXtcJk9"
      },
      "source": [
        "product_list = soup.find_all('article', class_='hm-product-item')\n",
        "# percorre a lista para encontrar o id de cada produto\n",
        "product_id =[]\n",
        "for p in list (product_list):\n",
        "  product_id.append(p.get('data-articlecode'))\n",
        "\n",
        "#categoria\n",
        "product_category =[]\n",
        "for p in list (product_list):\n",
        "  product_category.append(p.get('data-category'))\n",
        "\n",
        "#nome\n",
        "product_list = products.find_all('a', class_='link')\n",
        "product_name = []\n",
        "for p in list(product_list):\n",
        "  product_name.append(p.get_text())\n",
        "\n",
        "#preco\n",
        "product_list = products.find_all('span', class_='price regular')\n",
        "product_price = []\n",
        "for p in list(product_list):\n",
        "  product_price.append(p.get_text())\n",
        "\n"
      ],
      "execution_count": 12,
      "outputs": []
    },
    {
      "cell_type": "code",
      "metadata": {
        "id": "3Uos7hS7r60w"
      },
      "source": [
        "#colocando no dataframe\n",
        "data = pd.DataFrame( [product_id, product_category, product_name,product_price] ).T\n",
        "data.columns = ['product_id', 'product_category', 'product_name','product_price']"
      ],
      "execution_count": 13,
      "outputs": []
    },
    {
      "cell_type": "code",
      "metadata": {
        "colab": {
          "base_uri": "https://localhost:8080/",
          "height": 419
        },
        "id": "Z5F4TxIhBbsu",
        "outputId": "8500a0f7-603b-442e-c0b1-2308768c9e9b"
      },
      "source": [
        "data"
      ],
      "execution_count": 14,
      "outputs": [
        {
          "output_type": "execute_result",
          "data": {
            "text/html": [
              "<div>\n",
              "<style scoped>\n",
              "    .dataframe tbody tr th:only-of-type {\n",
              "        vertical-align: middle;\n",
              "    }\n",
              "\n",
              "    .dataframe tbody tr th {\n",
              "        vertical-align: top;\n",
              "    }\n",
              "\n",
              "    .dataframe thead th {\n",
              "        text-align: right;\n",
              "    }\n",
              "</style>\n",
              "<table border=\"1\" class=\"dataframe\">\n",
              "  <thead>\n",
              "    <tr style=\"text-align: right;\">\n",
              "      <th></th>\n",
              "      <th>product_id</th>\n",
              "      <th>product_category</th>\n",
              "      <th>product_name</th>\n",
              "      <th>product_price</th>\n",
              "    </tr>\n",
              "  </thead>\n",
              "  <tbody>\n",
              "    <tr>\n",
              "      <th>0</th>\n",
              "      <td>1004476004</td>\n",
              "      <td>men_jeans_slim</td>\n",
              "      <td>Freefit® Slim Jeans</td>\n",
              "      <td>$ 49.99</td>\n",
              "    </tr>\n",
              "    <tr>\n",
              "      <th>1</th>\n",
              "      <td>0690449051</td>\n",
              "      <td>men_jeans_ripped</td>\n",
              "      <td>Skinny Jeans</td>\n",
              "      <td>$ 39.99</td>\n",
              "    </tr>\n",
              "    <tr>\n",
              "      <th>2</th>\n",
              "      <td>0938875007</td>\n",
              "      <td>men_jeans_slim</td>\n",
              "      <td>Slim Tapered Jeans</td>\n",
              "      <td>$ 39.99</td>\n",
              "    </tr>\n",
              "    <tr>\n",
              "      <th>3</th>\n",
              "      <td>0985197005</td>\n",
              "      <td>men_jeans_slim</td>\n",
              "      <td>Slim Jeans</td>\n",
              "      <td>$ 19.99</td>\n",
              "    </tr>\n",
              "    <tr>\n",
              "      <th>4</th>\n",
              "      <td>0811993028</td>\n",
              "      <td>men_jeans_regular</td>\n",
              "      <td>Regular Jeans</td>\n",
              "      <td>$ 29.99</td>\n",
              "    </tr>\n",
              "    <tr>\n",
              "      <th>...</th>\n",
              "      <td>...</td>\n",
              "      <td>...</td>\n",
              "      <td>...</td>\n",
              "      <td>...</td>\n",
              "    </tr>\n",
              "    <tr>\n",
              "      <th>82</th>\n",
              "      <td>0720504013</td>\n",
              "      <td>men_jeans_skinny</td>\n",
              "      <td>Skinny Jeans</td>\n",
              "      <td>$ 24.99</td>\n",
              "    </tr>\n",
              "    <tr>\n",
              "      <th>83</th>\n",
              "      <td>0636207010</td>\n",
              "      <td>men_jeans_slim</td>\n",
              "      <td>Slim Jeans</td>\n",
              "      <td>$ 19.99</td>\n",
              "    </tr>\n",
              "    <tr>\n",
              "      <th>84</th>\n",
              "      <td>0636207019</td>\n",
              "      <td>men_jeans_slim</td>\n",
              "      <td>Slim Jeans</td>\n",
              "      <td>$ 19.99</td>\n",
              "    </tr>\n",
              "    <tr>\n",
              "      <th>85</th>\n",
              "      <td>0952016002</td>\n",
              "      <td>men_jeans_regular</td>\n",
              "      <td>Hybrid Regular Tapered Joggers</td>\n",
              "      <td>$ 39.99</td>\n",
              "    </tr>\n",
              "    <tr>\n",
              "      <th>86</th>\n",
              "      <td>0811993007</td>\n",
              "      <td>men_jeans_regular</td>\n",
              "      <td>Regular Jeans</td>\n",
              "      <td>$ 29.99</td>\n",
              "    </tr>\n",
              "  </tbody>\n",
              "</table>\n",
              "<p>87 rows × 4 columns</p>\n",
              "</div>"
            ],
            "text/plain": [
              "    product_id   product_category                    product_name product_price\n",
              "0   1004476004     men_jeans_slim             Freefit® Slim Jeans       $ 49.99\n",
              "1   0690449051   men_jeans_ripped                    Skinny Jeans       $ 39.99\n",
              "2   0938875007     men_jeans_slim              Slim Tapered Jeans       $ 39.99\n",
              "3   0985197005     men_jeans_slim                      Slim Jeans       $ 19.99\n",
              "4   0811993028  men_jeans_regular                   Regular Jeans       $ 29.99\n",
              "..         ...                ...                             ...           ...\n",
              "82  0720504013   men_jeans_skinny                    Skinny Jeans       $ 24.99\n",
              "83  0636207010     men_jeans_slim                      Slim Jeans       $ 19.99\n",
              "84  0636207019     men_jeans_slim                      Slim Jeans       $ 19.99\n",
              "85  0952016002  men_jeans_regular  Hybrid Regular Tapered Joggers       $ 39.99\n",
              "86  0811993007  men_jeans_regular                   Regular Jeans       $ 29.99\n",
              "\n",
              "[87 rows x 4 columns]"
            ]
          },
          "metadata": {},
          "execution_count": 14
        }
      ]
    }
  ]
}